{
 "cells": [
  {
   "cell_type": "code",
   "execution_count": 1,
   "metadata": {
    "collapsed": true,
    "deletable": true,
    "editable": true
   },
   "outputs": [],
   "source": [
    "%matplotlib inline\n",
    "import matplotlib.pyplot as plt\n",
    "import numpy as np\n",
    "import pandas as pd"
   ]
  },
  {
   "cell_type": "code",
   "execution_count": 2,
   "metadata": {
    "collapsed": false,
    "deletable": true,
    "editable": true
   },
   "outputs": [],
   "source": [
    "train = pd.read_csv('csv/sync_original.csv')"
   ]
  },
  {
   "cell_type": "code",
   "execution_count": 3,
   "metadata": {
    "collapsed": false,
    "deletable": true,
    "editable": true
   },
   "outputs": [
    {
     "data": {
      "text/html": [
       "<div>\n",
       "<table border=\"1\" class=\"dataframe\">\n",
       "  <thead>\n",
       "    <tr style=\"text-align: right;\">\n",
       "      <th></th>\n",
       "      <th>avg</th>\n",
       "      <th>desviopadrao</th>\n",
       "      <th>segundomomento</th>\n",
       "      <th>terceiromomento</th>\n",
       "      <th>assimetria</th>\n",
       "      <th>curtose</th>\n",
       "      <th>desviomedio</th>\n",
       "      <th>n_peaks_valleys</th>\n",
       "      <th>avg_n_peaks_valleys</th>\n",
       "      <th>audio</th>\n",
       "    </tr>\n",
       "  </thead>\n",
       "  <tbody>\n",
       "    <tr>\n",
       "      <th>1780</th>\n",
       "      <td>-1.187965</td>\n",
       "      <td>3326.575894</td>\n",
       "      <td>1.106611e+07</td>\n",
       "      <td>-1.878174e+09</td>\n",
       "      <td>-0.049949</td>\n",
       "      <td>1.924526</td>\n",
       "      <td>2150.415733</td>\n",
       "      <td>13863</td>\n",
       "      <td>5.379788</td>\n",
       "      <td>synt</td>\n",
       "    </tr>\n",
       "    <tr>\n",
       "      <th>782</th>\n",
       "      <td>-2.406354</td>\n",
       "      <td>2017.947009</td>\n",
       "      <td>4.072116e+06</td>\n",
       "      <td>-1.316496e+08</td>\n",
       "      <td>-0.012444</td>\n",
       "      <td>0.704253</td>\n",
       "      <td>1564.407514</td>\n",
       "      <td>12968</td>\n",
       "      <td>14.766271</td>\n",
       "      <td>original</td>\n",
       "    </tr>\n",
       "    <tr>\n",
       "      <th>2168</th>\n",
       "      <td>-2.195817</td>\n",
       "      <td>3698.500418</td>\n",
       "      <td>1.367891e+07</td>\n",
       "      <td>-1.710821e+09</td>\n",
       "      <td>-0.032035</td>\n",
       "      <td>5.031878</td>\n",
       "      <td>2100.274996</td>\n",
       "      <td>11386</td>\n",
       "      <td>50.251888</td>\n",
       "      <td>synt</td>\n",
       "    </tr>\n",
       "    <tr>\n",
       "      <th>766</th>\n",
       "      <td>0.444371</td>\n",
       "      <td>598.510319</td>\n",
       "      <td>3.582148e+05</td>\n",
       "      <td>-9.109879e+07</td>\n",
       "      <td>-0.427138</td>\n",
       "      <td>12.379093</td>\n",
       "      <td>288.916189</td>\n",
       "      <td>21746</td>\n",
       "      <td>0.356019</td>\n",
       "      <td>original</td>\n",
       "    </tr>\n",
       "    <tr>\n",
       "      <th>2148</th>\n",
       "      <td>-2.547815</td>\n",
       "      <td>3774.350128</td>\n",
       "      <td>1.424573e+07</td>\n",
       "      <td>5.727921e+09</td>\n",
       "      <td>0.108555</td>\n",
       "      <td>3.501951</td>\n",
       "      <td>2301.615017</td>\n",
       "      <td>20294</td>\n",
       "      <td>20.154972</td>\n",
       "      <td>synt</td>\n",
       "    </tr>\n",
       "  </tbody>\n",
       "</table>\n",
       "</div>"
      ],
      "text/plain": [
       "           avg  desviopadrao  segundomomento  terceiromomento  assimetria  \\\n",
       "1780 -1.187965   3326.575894    1.106611e+07    -1.878174e+09   -0.049949   \n",
       "782  -2.406354   2017.947009    4.072116e+06    -1.316496e+08   -0.012444   \n",
       "2168 -2.195817   3698.500418    1.367891e+07    -1.710821e+09   -0.032035   \n",
       "766   0.444371    598.510319    3.582148e+05    -9.109879e+07   -0.427138   \n",
       "2148 -2.547815   3774.350128    1.424573e+07     5.727921e+09    0.108555   \n",
       "\n",
       "        curtose  desviomedio  n_peaks_valleys  avg_n_peaks_valleys     audio  \n",
       "1780   1.924526  2150.415733            13863             5.379788      synt  \n",
       "782    0.704253  1564.407514            12968            14.766271  original  \n",
       "2168   5.031878  2100.274996            11386            50.251888      synt  \n",
       "766   12.379093   288.916189            21746             0.356019  original  \n",
       "2148   3.501951  2301.615017            20294            20.154972      synt  "
      ]
     },
     "execution_count": 3,
     "metadata": {},
     "output_type": "execute_result"
    }
   ],
   "source": [
    "train.sample(5)"
   ]
  },
  {
   "cell_type": "code",
   "execution_count": 4,
   "metadata": {
    "collapsed": false,
    "deletable": true,
    "editable": true
   },
   "outputs": [],
   "source": [
    "X = train.drop(['audio'], axis=1)\n",
    "y = train['audio']"
   ]
  },
  {
   "cell_type": "code",
   "execution_count": 5,
   "metadata": {
    "collapsed": false,
    "deletable": true,
    "editable": true,
    "scrolled": false
   },
   "outputs": [
    {
     "data": {
      "text/html": [
       "<div>\n",
       "<table border=\"1\" class=\"dataframe\">\n",
       "  <thead>\n",
       "    <tr style=\"text-align: right;\">\n",
       "      <th></th>\n",
       "      <th>avg</th>\n",
       "      <th>desviopadrao</th>\n",
       "      <th>segundomomento</th>\n",
       "      <th>terceiromomento</th>\n",
       "      <th>assimetria</th>\n",
       "      <th>curtose</th>\n",
       "      <th>desviomedio</th>\n",
       "      <th>n_peaks_valleys</th>\n",
       "      <th>avg_n_peaks_valleys</th>\n",
       "    </tr>\n",
       "  </thead>\n",
       "  <tbody>\n",
       "    <tr>\n",
       "      <th>0</th>\n",
       "      <td>0.475143</td>\n",
       "      <td>1176.098239</td>\n",
       "      <td>1.383207e+06</td>\n",
       "      <td>-8.470356e+07</td>\n",
       "      <td>-0.053280</td>\n",
       "      <td>7.733721</td>\n",
       "      <td>607.126482</td>\n",
       "      <td>19409</td>\n",
       "      <td>12.915400</td>\n",
       "    </tr>\n",
       "    <tr>\n",
       "      <th>1</th>\n",
       "      <td>0.209215</td>\n",
       "      <td>1072.620648</td>\n",
       "      <td>1.150515e+06</td>\n",
       "      <td>-8.000061e+07</td>\n",
       "      <td>-0.065412</td>\n",
       "      <td>4.233658</td>\n",
       "      <td>660.401005</td>\n",
       "      <td>18590</td>\n",
       "      <td>2.387520</td>\n",
       "    </tr>\n",
       "    <tr>\n",
       "      <th>2</th>\n",
       "      <td>0.243455</td>\n",
       "      <td>1320.069633</td>\n",
       "      <td>1.742584e+06</td>\n",
       "      <td>-5.292785e+07</td>\n",
       "      <td>-0.023562</td>\n",
       "      <td>5.067684</td>\n",
       "      <td>751.342405</td>\n",
       "      <td>15324</td>\n",
       "      <td>-2.983947</td>\n",
       "    </tr>\n",
       "    <tr>\n",
       "      <th>3</th>\n",
       "      <td>0.301834</td>\n",
       "      <td>1255.406197</td>\n",
       "      <td>1.576045e+06</td>\n",
       "      <td>4.611416e+06</td>\n",
       "      <td>0.001609</td>\n",
       "      <td>9.471419</td>\n",
       "      <td>633.506611</td>\n",
       "      <td>24749</td>\n",
       "      <td>-11.829124</td>\n",
       "    </tr>\n",
       "    <tr>\n",
       "      <th>4</th>\n",
       "      <td>-0.201644</td>\n",
       "      <td>1798.862214</td>\n",
       "      <td>3.235905e+06</td>\n",
       "      <td>-7.901591e+07</td>\n",
       "      <td>-0.013238</td>\n",
       "      <td>3.221882</td>\n",
       "      <td>1072.070181</td>\n",
       "      <td>17460</td>\n",
       "      <td>-14.790951</td>\n",
       "    </tr>\n",
       "  </tbody>\n",
       "</table>\n",
       "</div>"
      ],
      "text/plain": [
       "        avg  desviopadrao  segundomomento  terceiromomento  assimetria  \\\n",
       "0  0.475143   1176.098239    1.383207e+06    -8.470356e+07   -0.053280   \n",
       "1  0.209215   1072.620648    1.150515e+06    -8.000061e+07   -0.065412   \n",
       "2  0.243455   1320.069633    1.742584e+06    -5.292785e+07   -0.023562   \n",
       "3  0.301834   1255.406197    1.576045e+06     4.611416e+06    0.001609   \n",
       "4 -0.201644   1798.862214    3.235905e+06    -7.901591e+07   -0.013238   \n",
       "\n",
       "    curtose  desviomedio  n_peaks_valleys  avg_n_peaks_valleys  \n",
       "0  7.733721   607.126482            19409            12.915400  \n",
       "1  4.233658   660.401005            18590             2.387520  \n",
       "2  5.067684   751.342405            15324            -2.983947  \n",
       "3  9.471419   633.506611            24749           -11.829124  \n",
       "4  3.221882  1072.070181            17460           -14.790951  "
      ]
     },
     "execution_count": 5,
     "metadata": {},
     "output_type": "execute_result"
    }
   ],
   "source": [
    "X.head()"
   ]
  },
  {
   "cell_type": "code",
   "execution_count": 6,
   "metadata": {
    "collapsed": false,
    "deletable": true,
    "editable": true
   },
   "outputs": [
    {
     "data": {
      "text/plain": [
       "0    original\n",
       "1    original\n",
       "2    original\n",
       "3    original\n",
       "4    original\n",
       "Name: audio, dtype: object"
      ]
     },
     "execution_count": 6,
     "metadata": {},
     "output_type": "execute_result"
    }
   ],
   "source": [
    "y.head()"
   ]
  },
  {
   "cell_type": "markdown",
   "metadata": {
    "deletable": true,
    "editable": true
   },
   "source": [
    "# Number of instances"
   ]
  },
  {
   "cell_type": "code",
   "execution_count": 7,
   "metadata": {
    "collapsed": false,
    "deletable": true,
    "editable": true
   },
   "outputs": [
    {
     "data": {
      "text/plain": [
       "<matplotlib.axes._subplots.AxesSubplot at 0x7f58e6db6810>"
      ]
     },
     "execution_count": 7,
     "metadata": {},
     "output_type": "execute_result"
    },
    {
     "data": {
      "image/png": "[encoded data removed]",
      "text/plain": [
       "<matplotlib.figure.Figure at 0x7f58e6db6590>"
      ]
     },
     "metadata": {},
     "output_type": "display_data"
    }
   ],
   "source": [
    "train.audio.value_counts().plot(kind='bar', title = u'Number of instances per class', figsize=(8,5))"
   ]
  },
  {
   "cell_type": "markdown",
   "metadata": {
    "deletable": true,
    "editable": true
   },
   "source": [
    "# Using KFold as cross validation"
   ]
  },
  {
   "cell_type": "code",
   "execution_count": 8,
   "metadata": {
    "collapsed": false,
    "deletable": true,
    "editable": true
   },
   "outputs": [],
   "source": [
    "from sklearn.model_selection import cross_val_score, KFold\n",
    "\n",
    "kfold = KFold(n_splits=10, random_state=7)"
   ]
  },
  {
   "cell_type": "markdown",
   "metadata": {
    "deletable": true,
    "editable": true
   },
   "source": [
    "# Split data"
   ]
  },
  {
   "cell_type": "code",
   "execution_count": 9,
   "metadata": {
    "collapsed": false,
    "deletable": true,
    "editable": true
   },
   "outputs": [],
   "source": [
    "from sklearn.model_selection import train_test_split\n",
    "\n",
    "per_split = 0.2\n",
    "\n",
    "X_train, X_test, y_train, y_test = train_test_split(X, y, test_size = per_split, random_state = 11)"
   ]
  },
  {
   "cell_type": "markdown",
   "metadata": {
    "deletable": true,
    "editable": true
   },
   "source": [
    "# Import confusion matrix"
   ]
  },
  {
   "cell_type": "code",
   "execution_count": 10,
   "metadata": {
    "collapsed": false,
    "deletable": true,
    "editable": true
   },
   "outputs": [],
   "source": [
    "from sklearn.metrics import confusion_matrix\n",
    "\n",
    "nomes_linhas = ['original', 'synt']\n",
    "nomes_cols = ['original', 'synt']"
   ]
  },
  {
   "cell_type": "markdown",
   "metadata": {
    "deletable": true,
    "editable": true
   },
   "source": [
    "# Using Logistic Regression as classifier"
   ]
  },
  {
   "cell_type": "code",
   "execution_count": 11,
   "metadata": {
    "collapsed": false,
    "deletable": true,
    "editable": true
   },
   "outputs": [
    {
     "data": {
      "text/plain": [
       "LogisticRegression(C=1.0, class_weight=None, dual=False, fit_intercept=True,\n",
       "          intercept_scaling=1, max_iter=30, multi_class='ovr', n_jobs=-1,\n",
       "          penalty='l1', random_state=None, solver='liblinear', tol=0.0001,\n",
       "          verbose=0, warm_start=False)"
      ]
     },
     "execution_count": 11,
     "metadata": {},
     "output_type": "execute_result"
    }
   ],
   "source": [
    "from sklearn.linear_model import LogisticRegression\n",
    "from sklearn.model_selection import GridSearchCV\n",
    "from sklearn.metrics import accuracy_score, make_scorer\n",
    "from sklearn.model_selection import train_test_split\n",
    "\n",
    "lrc = LogisticRegression()\n",
    "\n",
    "parameters_lrc = {'penalty': ['l1', 'l2'],\n",
    "                'max_iter': [10, 20, 30, 50, 100, 200, 500],\n",
    "                'n_jobs': [-1]\n",
    "               }\n",
    "\n",
    "acc_score = make_scorer(accuracy_score)\n",
    "\n",
    "grid_lrc = GridSearchCV(lrc, parameters_lrc, scoring=acc_score)\n",
    "grid_lrc = grid_lrc.fit(X, y)\n",
    "\n",
    "lrc = grid_lrc.best_estimator_\n",
    "\n",
    "lrc.fit(X, y)"
   ]
  },
  {
   "cell_type": "markdown",
   "metadata": {
    "deletable": true,
    "editable": true
   },
   "source": [
    "# Cross validation, folds: 10"
   ]
  },
  {
   "cell_type": "code",
   "execution_count": 12,
   "metadata": {
    "collapsed": false,
    "deletable": true,
    "editable": true
   },
   "outputs": [
    {
     "name": "stdout",
     "output_type": "stream",
     "text": [
      "0.961955142559\n"
     ]
    }
   ],
   "source": [
    "results_lrc = cross_val_score(lrc, X, y, cv=kfold)\n",
    "print (results_lrc.mean())"
   ]
  },
  {
   "cell_type": "markdown",
   "metadata": {
    "deletable": true,
    "editable": true
   },
   "source": [
    "# Training set"
   ]
  },
  {
   "cell_type": "code",
   "execution_count": 13,
   "metadata": {
    "collapsed": false,
    "deletable": true,
    "editable": true,
    "scrolled": true
   },
   "outputs": [
    {
     "name": "stdout",
     "output_type": "stream",
     "text": [
      "0.970588235294\n"
     ]
    }
   ],
   "source": [
    "predicts_lrc = lrc.predict(X)\n",
    "print (accuracy_score(y, predicts_lrc))"
   ]
  },
  {
   "cell_type": "markdown",
   "metadata": {
    "deletable": true,
    "editable": true
   },
   "source": [
    "# Confusion matrix of training set"
   ]
  },
  {
   "cell_type": "code",
   "execution_count": 14,
   "metadata": {
    "collapsed": false,
    "deletable": true,
    "editable": true
   },
   "outputs": [
    {
     "data": {
      "text/html": [
       "<div>\n",
       "<table border=\"1\" class=\"dataframe\">\n",
       "  <thead>\n",
       "    <tr style=\"text-align: right;\">\n",
       "      <th></th>\n",
       "      <th>original</th>\n",
       "      <th>synt</th>\n",
       "    </tr>\n",
       "  </thead>\n",
       "  <tbody>\n",
       "    <tr>\n",
       "      <th>original</th>\n",
       "      <td>1120</td>\n",
       "      <td>36</td>\n",
       "    </tr>\n",
       "    <tr>\n",
       "      <th>synt</th>\n",
       "      <td>32</td>\n",
       "      <td>1124</td>\n",
       "    </tr>\n",
       "  </tbody>\n",
       "</table>\n",
       "</div>"
      ],
      "text/plain": [
       "          original  synt\n",
       "original      1120    36\n",
       "synt            32  1124"
      ]
     },
     "execution_count": 14,
     "metadata": {},
     "output_type": "execute_result"
    }
   ],
   "source": [
    "cm_ts_lrc = pd.DataFrame(confusion_matrix(y, predicts_lrc, labels=['original', 'synt']), index=nomes_linhas, columns=nomes_cols)\n",
    "cm_ts_lrc"
   ]
  },
  {
   "cell_type": "markdown",
   "metadata": {
    "deletable": true,
    "editable": true
   },
   "source": [
    "# Percentage split"
   ]
  },
  {
   "cell_type": "code",
   "execution_count": 15,
   "metadata": {
    "collapsed": false,
    "deletable": true,
    "editable": true
   },
   "outputs": [
    {
     "name": "stdout",
     "output_type": "stream",
     "text": [
      "0.984881209503\n"
     ]
    }
   ],
   "source": [
    "lrc.fit(X_train, y_train)\n",
    "predicts_lrc_split = lrc.predict(X_test)\n",
    "print (accuracy_score(y_test, predicts_lrc_split))"
   ]
  },
  {
   "cell_type": "markdown",
   "metadata": {
    "deletable": true,
    "editable": true
   },
   "source": [
    "# Confusion matrix of split"
   ]
  },
  {
   "cell_type": "code",
   "execution_count": 16,
   "metadata": {
    "collapsed": false,
    "deletable": true,
    "editable": true
   },
   "outputs": [
    {
     "data": {
      "text/html": [
       "<div>\n",
       "<table border=\"1\" class=\"dataframe\">\n",
       "  <thead>\n",
       "    <tr style=\"text-align: right;\">\n",
       "      <th></th>\n",
       "      <th>original</th>\n",
       "      <th>synt</th>\n",
       "    </tr>\n",
       "  </thead>\n",
       "  <tbody>\n",
       "    <tr>\n",
       "      <th>original</th>\n",
       "      <td>241</td>\n",
       "      <td>5</td>\n",
       "    </tr>\n",
       "    <tr>\n",
       "      <th>synt</th>\n",
       "      <td>2</td>\n",
       "      <td>215</td>\n",
       "    </tr>\n",
       "  </tbody>\n",
       "</table>\n",
       "</div>"
      ],
      "text/plain": [
       "          original  synt\n",
       "original       241     5\n",
       "synt             2   215"
      ]
     },
     "execution_count": 16,
     "metadata": {},
     "output_type": "execute_result"
    }
   ],
   "source": [
    "cm_ts_lrc_s = pd.DataFrame(confusion_matrix(y_test, predicts_lrc_split, labels=['original', 'synt']), index=nomes_linhas, columns=nomes_cols)\n",
    "cm_ts_lrc_s"
   ]
  },
  {
   "cell_type": "code",
   "execution_count": 17,
   "metadata": {
    "collapsed": true,
    "deletable": true,
    "editable": true
   },
   "outputs": [],
   "source": [
    "rs_lrc = []\n",
    "rs_lrc.append(results_lrc.mean())\n",
    "rs_lrc.append(accuracy_score(y, predicts_lrc))\n",
    "rs_lrc.append(accuracy_score(y_test, predicts_lrc_split))"
   ]
  },
  {
   "cell_type": "markdown",
   "metadata": {
    "deletable": true,
    "editable": true
   },
   "source": [
    "# Using Gradient Boosting as classifier"
   ]
  },
  {
   "cell_type": "code",
   "execution_count": 18,
   "metadata": {
    "collapsed": false,
    "deletable": true,
    "editable": true
   },
   "outputs": [
    {
     "data": {
      "text/plain": [
       "GradientBoostingClassifier(criterion='friedman_mse', init=None,\n",
       "              learning_rate=0.1, loss='deviance', max_depth=3,\n",
       "              max_features='log2', max_leaf_nodes=None,\n",
       "              min_impurity_split=1e-07, min_samples_leaf=1,\n",
       "              min_samples_split=2, min_weight_fraction_leaf=0.0,\n",
       "              n_estimators=500, presort='auto', random_state=None,\n",
       "              subsample=1.0, verbose=0, warm_start=False)"
      ]
     },
     "execution_count": 18,
     "metadata": {},
     "output_type": "execute_result"
    }
   ],
   "source": [
    "from sklearn.ensemble import GradientBoostingClassifier\n",
    "\n",
    "gbc = GradientBoostingClassifier()\n",
    "\n",
    "parameters_gbc = {'learning_rate': [0.01, 0.1, 0.05],\n",
    "                  'n_estimators': [100, 250, 500],\n",
    "                  'max_depth': [3, 5, 10],\n",
    "                  'max_features': ['auto', 'log2']}\n",
    "\n",
    "acc_score_gbc = make_scorer(accuracy_score)\n",
    "\n",
    "grid_gbc = GridSearchCV(gbc, parameters_gbc, scoring=acc_score_gbc)\n",
    "grid_gbc = grid_gbc.fit(X, y)\n",
    "\n",
    "gbc = grid_gbc.best_estimator_\n",
    "\n",
    "gbc.fit(X, y)"
   ]
  },
  {
   "cell_type": "markdown",
   "metadata": {
    "deletable": true,
    "editable": true
   },
   "source": [
    "# Cross validation"
   ]
  },
  {
   "cell_type": "code",
   "execution_count": 19,
   "metadata": {
    "collapsed": false,
    "deletable": true,
    "editable": true
   },
   "outputs": [
    {
     "name": "stdout",
     "output_type": "stream",
     "text": [
      "0.978832661591\n"
     ]
    }
   ],
   "source": [
    "results_gbc = cross_val_score(gbc, X, y, cv=kfold)\n",
    "print (results_gbc.mean())"
   ]
  },
  {
   "cell_type": "markdown",
   "metadata": {
    "deletable": true,
    "editable": true
   },
   "source": [
    "# Training set"
   ]
  },
  {
   "cell_type": "code",
   "execution_count": 20,
   "metadata": {
    "collapsed": false,
    "deletable": true,
    "editable": true
   },
   "outputs": [
    {
     "name": "stdout",
     "output_type": "stream",
     "text": [
      "1.0\n"
     ]
    }
   ],
   "source": [
    "predicts_gbc = gbc.predict(X)\n",
    "print (accuracy_score(y, predicts_gbc))"
   ]
  },
  {
   "cell_type": "markdown",
   "metadata": {
    "deletable": true,
    "editable": true
   },
   "source": [
    "# Confusion matrix of training set"
   ]
  },
  {
   "cell_type": "code",
   "execution_count": 21,
   "metadata": {
    "collapsed": false,
    "deletable": true,
    "editable": true,
    "scrolled": true
   },
   "outputs": [
    {
     "data": {
      "text/html": [
       "<div>\n",
       "<table border=\"1\" class=\"dataframe\">\n",
       "  <thead>\n",
       "    <tr style=\"text-align: right;\">\n",
       "      <th></th>\n",
       "      <th>original</th>\n",
       "      <th>synt</th>\n",
       "    </tr>\n",
       "  </thead>\n",
       "  <tbody>\n",
       "    <tr>\n",
       "      <th>original</th>\n",
       "      <td>1156</td>\n",
       "      <td>0</td>\n",
       "    </tr>\n",
       "    <tr>\n",
       "      <th>synt</th>\n",
       "      <td>0</td>\n",
       "      <td>1156</td>\n",
       "    </tr>\n",
       "  </tbody>\n",
       "</table>\n",
       "</div>"
      ],
      "text/plain": [
       "          original  synt\n",
       "original      1156     0\n",
       "synt             0  1156"
      ]
     },
     "execution_count": 21,
     "metadata": {},
     "output_type": "execute_result"
    }
   ],
   "source": [
    "cm_ts_gbc = pd.DataFrame(confusion_matrix(y, predicts_gbc, labels=['original', 'synt']), index=nomes_linhas, columns=nomes_cols)\n",
    "cm_ts_gbc"
   ]
  },
  {
   "cell_type": "markdown",
   "metadata": {
    "deletable": true,
    "editable": true
   },
   "source": [
    "# Percentage split"
   ]
  },
  {
   "cell_type": "code",
   "execution_count": 22,
   "metadata": {
    "collapsed": false,
    "deletable": true,
    "editable": true
   },
   "outputs": [
    {
     "name": "stdout",
     "output_type": "stream",
     "text": [
      "0.980561555076\n"
     ]
    }
   ],
   "source": [
    "gbc.fit(X_train, y_train)\n",
    "predicts_gbc_split = gbc.predict(X_test)\n",
    "print (accuracy_score(y_test, predicts_gbc_split))"
   ]
  },
  {
   "cell_type": "markdown",
   "metadata": {
    "deletable": true,
    "editable": true
   },
   "source": [
    "# Confusion matrix of split"
   ]
  },
  {
   "cell_type": "code",
   "execution_count": 23,
   "metadata": {
    "collapsed": false,
    "deletable": true,
    "editable": true
   },
   "outputs": [
    {
     "data": {
      "text/html": [
       "<div>\n",
       "<table border=\"1\" class=\"dataframe\">\n",
       "  <thead>\n",
       "    <tr style=\"text-align: right;\">\n",
       "      <th></th>\n",
       "      <th>original</th>\n",
       "      <th>synt</th>\n",
       "    </tr>\n",
       "  </thead>\n",
       "  <tbody>\n",
       "    <tr>\n",
       "      <th>original</th>\n",
       "      <td>240</td>\n",
       "      <td>6</td>\n",
       "    </tr>\n",
       "    <tr>\n",
       "      <th>synt</th>\n",
       "      <td>3</td>\n",
       "      <td>214</td>\n",
       "    </tr>\n",
       "  </tbody>\n",
       "</table>\n",
       "</div>"
      ],
      "text/plain": [
       "          original  synt\n",
       "original       240     6\n",
       "synt             3   214"
      ]
     },
     "execution_count": 23,
     "metadata": {},
     "output_type": "execute_result"
    }
   ],
   "source": [
    "cm_ts_gbc_s = pd.DataFrame(confusion_matrix(y_test, predicts_gbc_split, labels=['original', 'synt']), index=nomes_linhas, columns=nomes_cols)\n",
    "cm_ts_gbc_s"
   ]
  },
  {
   "cell_type": "code",
   "execution_count": 24,
   "metadata": {
    "collapsed": true,
    "deletable": true,
    "editable": true
   },
   "outputs": [],
   "source": [
    "rs_gbc = []\n",
    "rs_gbc.append(results_gbc.mean())\n",
    "rs_gbc.append(accuracy_score(y, predicts_gbc))\n",
    "rs_gbc.append(accuracy_score(y_test, predicts_gbc_split))"
   ]
  },
  {
   "cell_type": "markdown",
   "metadata": {
    "deletable": true,
    "editable": true
   },
   "source": [
    "# Using decision tree"
   ]
  },
  {
   "cell_type": "code",
   "execution_count": 25,
   "metadata": {
    "collapsed": false,
    "deletable": true,
    "editable": true
   },
   "outputs": [
    {
     "data": {
      "text/plain": [
       "DecisionTreeClassifier(class_weight=None, criterion='gini', max_depth=None,\n",
       "            max_features='auto', max_leaf_nodes=None,\n",
       "            min_impurity_split=1e-07, min_samples_leaf=1,\n",
       "            min_samples_split=2, min_weight_fraction_leaf=0.0,\n",
       "            presort=False, random_state=None, splitter='best')"
      ]
     },
     "execution_count": 25,
     "metadata": {},
     "output_type": "execute_result"
    }
   ],
   "source": [
    "from sklearn.tree import DecisionTreeClassifier\n",
    "\n",
    "clf_dtc = DecisionTreeClassifier()\n",
    "\n",
    "parameters_dtc = {'max_features': ['auto', 'log2'],\n",
    "                'criterion': ['gini', 'entropy']\n",
    "               }\n",
    "\n",
    "acc_score_dtc = make_scorer(accuracy_score)\n",
    "\n",
    "grid_dtc = GridSearchCV(clf_dtc, parameters_dtc, scoring=acc_score_dtc)\n",
    "grid_dtc = grid_dtc.fit(X, y)\n",
    "\n",
    "clf_dtc = grid_dtc.best_estimator_\n",
    "\n",
    "clf_dtc.fit(X, y)"
   ]
  },
  {
   "cell_type": "markdown",
   "metadata": {
    "deletable": true,
    "editable": true
   },
   "source": [
    "# Cross validation, folds: 10"
   ]
  },
  {
   "cell_type": "code",
   "execution_count": 26,
   "metadata": {
    "collapsed": false,
    "deletable": true,
    "editable": true
   },
   "outputs": [
    {
     "name": "stdout",
     "output_type": "stream",
     "text": [
      "0.957204433498\n"
     ]
    }
   ],
   "source": [
    "results_dtc = cross_val_score(clf_dtc, X, y, cv=kfold)\n",
    "print (results_dtc.mean())"
   ]
  },
  {
   "cell_type": "markdown",
   "metadata": {
    "deletable": true,
    "editable": true
   },
   "source": [
    "# Percentage split"
   ]
  },
  {
   "cell_type": "code",
   "execution_count": 27,
   "metadata": {
    "collapsed": false,
    "deletable": true,
    "editable": true,
    "scrolled": true
   },
   "outputs": [
    {
     "name": "stdout",
     "output_type": "stream",
     "text": [
      "0.965442764579\n"
     ]
    }
   ],
   "source": [
    "clf_dtc.fit(X_train, y_train)\n",
    "predicts_dtc_split = clf_dtc.predict(X_test)\n",
    "print (accuracy_score(y_test, predicts_dtc_split))"
   ]
  },
  {
   "cell_type": "markdown",
   "metadata": {
    "deletable": true,
    "editable": true
   },
   "source": [
    "# Confusion matrix of split"
   ]
  },
  {
   "cell_type": "code",
   "execution_count": 28,
   "metadata": {
    "collapsed": false,
    "deletable": true,
    "editable": true
   },
   "outputs": [
    {
     "data": {
      "text/html": [
       "<div>\n",
       "<table border=\"1\" class=\"dataframe\">\n",
       "  <thead>\n",
       "    <tr style=\"text-align: right;\">\n",
       "      <th></th>\n",
       "      <th>original</th>\n",
       "      <th>synt</th>\n",
       "    </tr>\n",
       "  </thead>\n",
       "  <tbody>\n",
       "    <tr>\n",
       "      <th>original</th>\n",
       "      <td>238</td>\n",
       "      <td>8</td>\n",
       "    </tr>\n",
       "    <tr>\n",
       "      <th>synt</th>\n",
       "      <td>8</td>\n",
       "      <td>209</td>\n",
       "    </tr>\n",
       "  </tbody>\n",
       "</table>\n",
       "</div>"
      ],
      "text/plain": [
       "          original  synt\n",
       "original       238     8\n",
       "synt             8   209"
      ]
     },
     "execution_count": 28,
     "metadata": {},
     "output_type": "execute_result"
    }
   ],
   "source": [
    "cm_ts_dtc_s = pd.DataFrame(confusion_matrix(y_test, predicts_dtc_split, labels=['original', 'synt']), index=nomes_linhas, columns=nomes_cols)\n",
    "cm_ts_dtc_s"
   ]
  },
  {
   "cell_type": "markdown",
   "metadata": {
    "deletable": true,
    "editable": true
   },
   "source": [
    "# Using Multilayer Perceptron as classifier"
   ]
  },
  {
   "cell_type": "code",
   "execution_count": 29,
   "metadata": {
    "collapsed": false,
    "deletable": true,
    "editable": true
   },
   "outputs": [
    {
     "data": {
      "text/plain": [
       "MLPClassifier(activation='relu', alpha=0.0001, batch_size='auto', beta_1=0.9,\n",
       "       beta_2=0.999, early_stopping=False, epsilon=1e-08,\n",
       "       hidden_layer_sizes=(20,), learning_rate='constant',\n",
       "       learning_rate_init=0.3, max_iter=1000, momentum=0.2,\n",
       "       nesterovs_momentum=True, power_t=0.5, random_state=None,\n",
       "       shuffle=True, solver='adam', tol=0.0001, validation_fraction=0.1,\n",
       "       verbose=False, warm_start=False)"
      ]
     },
     "execution_count": 29,
     "metadata": {},
     "output_type": "execute_result"
    }
   ],
   "source": [
    "from sklearn.neural_network import MLPClassifier\n",
    "from sklearn.model_selection import GridSearchCV\n",
    "\n",
    "clf_mlp = MLPClassifier()\n",
    "\n",
    "parameters_mlp = {'hidden_layer_sizes': [(5,), (5,2), (8,), (10,), (10,2), (20,2), (20,)], \n",
    "              'max_iter': [500, 1000, 1500],\n",
    "              'learning_rate_init': [0.01, 0.3, 0.05, 0.10, 0.001, 0.005],\n",
    "              'momentum': [0.2, 0.5, 0.7, 0.9]\n",
    "             }\n",
    "\n",
    "acc_score_mlp = make_scorer(accuracy_score)\n",
    "\n",
    "grid_mlp = GridSearchCV(clf_mlp, parameters_mlp, scoring=acc_score_mlp)\n",
    "grid_mlp = grid_mlp.fit(X, y)\n",
    "\n",
    "clf_mlp = grid_mlp.best_estimator_\n",
    "\n",
    "clf_mlp.fit(X, y)"
   ]
  },
  {
   "cell_type": "markdown",
   "metadata": {
    "deletable": true,
    "editable": true
   },
   "source": [
    "# Cross validation, folds: 10"
   ]
  },
  {
   "cell_type": "code",
   "execution_count": 30,
   "metadata": {
    "collapsed": false,
    "deletable": true,
    "editable": true
   },
   "outputs": [
    {
     "name": "stdout",
     "output_type": "stream",
     "text": [
      "0.406463651291\n"
     ]
    }
   ],
   "source": [
    "results_mlp = cross_val_score(clf_mlp, X, y, cv=kfold)\n",
    "print (results_mlp.mean())"
   ]
  },
  {
   "cell_type": "markdown",
   "metadata": {
    "deletable": true,
    "editable": true
   },
   "source": [
    "# Training set"
   ]
  },
  {
   "cell_type": "code",
   "execution_count": 31,
   "metadata": {
    "collapsed": false,
    "deletable": true,
    "editable": true
   },
   "outputs": [
    {
     "name": "stdout",
     "output_type": "stream",
     "text": [
      "0.56401384083\n"
     ]
    }
   ],
   "source": [
    "predicts_mlp = clf_mlp.predict(X)\n",
    "print (accuracy_score(y, predicts_mlp))"
   ]
  },
  {
   "cell_type": "markdown",
   "metadata": {
    "deletable": true,
    "editable": true
   },
   "source": [
    "# Confusion matrix of training set"
   ]
  },
  {
   "cell_type": "code",
   "execution_count": 32,
   "metadata": {
    "collapsed": false,
    "deletable": true,
    "editable": true
   },
   "outputs": [
    {
     "data": {
      "text/html": [
       "<div>\n",
       "<table border=\"1\" class=\"dataframe\">\n",
       "  <thead>\n",
       "    <tr style=\"text-align: right;\">\n",
       "      <th></th>\n",
       "      <th>original</th>\n",
       "      <th>synt</th>\n",
       "    </tr>\n",
       "  </thead>\n",
       "  <tbody>\n",
       "    <tr>\n",
       "      <th>original</th>\n",
       "      <td>447</td>\n",
       "      <td>709</td>\n",
       "    </tr>\n",
       "    <tr>\n",
       "      <th>synt</th>\n",
       "      <td>299</td>\n",
       "      <td>857</td>\n",
       "    </tr>\n",
       "  </tbody>\n",
       "</table>\n",
       "</div>"
      ],
      "text/plain": [
       "          original  synt\n",
       "original       447   709\n",
       "synt           299   857"
      ]
     },
     "execution_count": 32,
     "metadata": {},
     "output_type": "execute_result"
    }
   ],
   "source": [
    "cm_ts_mlp = pd.DataFrame(confusion_matrix(y, predicts_mlp, labels=['original', 'synt']), index=nomes_linhas, columns=nomes_cols)\n",
    "cm_ts_mlp"
   ]
  },
  {
   "cell_type": "markdown",
   "metadata": {
    "deletable": true,
    "editable": true
   },
   "source": [
    "# Percentage split"
   ]
  },
  {
   "cell_type": "code",
   "execution_count": 33,
   "metadata": {
    "collapsed": false,
    "deletable": true,
    "editable": true
   },
   "outputs": [
    {
     "name": "stdout",
     "output_type": "stream",
     "text": [
      "0.455723542117\n"
     ]
    }
   ],
   "source": [
    "clf_mlp.fit(X_train, y_train)\n",
    "predicts_mlp_split = clf_mlp.predict(X_test)\n",
    "print (accuracy_score(y_test, predicts_mlp_split))"
   ]
  },
  {
   "cell_type": "markdown",
   "metadata": {
    "deletable": true,
    "editable": true
   },
   "source": [
    "# Confusion matrix of split"
   ]
  },
  {
   "cell_type": "code",
   "execution_count": 34,
   "metadata": {
    "collapsed": false,
    "deletable": true,
    "editable": true,
    "scrolled": true
   },
   "outputs": [
    {
     "data": {
      "text/html": [
       "<div>\n",
       "<table border=\"1\" class=\"dataframe\">\n",
       "  <thead>\n",
       "    <tr style=\"text-align: right;\">\n",
       "      <th></th>\n",
       "      <th>original</th>\n",
       "      <th>synt</th>\n",
       "    </tr>\n",
       "  </thead>\n",
       "  <tbody>\n",
       "    <tr>\n",
       "      <th>original</th>\n",
       "      <td>200</td>\n",
       "      <td>46</td>\n",
       "    </tr>\n",
       "    <tr>\n",
       "      <th>synt</th>\n",
       "      <td>206</td>\n",
       "      <td>11</td>\n",
       "    </tr>\n",
       "  </tbody>\n",
       "</table>\n",
       "</div>"
      ],
      "text/plain": [
       "          original  synt\n",
       "original       200    46\n",
       "synt           206    11"
      ]
     },
     "execution_count": 34,
     "metadata": {},
     "output_type": "execute_result"
    }
   ],
   "source": [
    "cm_ts_mlp_s = pd.DataFrame(confusion_matrix(y_test, predicts_mlp_split, labels=['original', 'synt']), index=nomes_linhas, columns=nomes_cols)\n",
    "cm_ts_mlp_s"
   ]
  },
  {
   "cell_type": "code",
   "execution_count": 35,
   "metadata": {
    "collapsed": true,
    "deletable": true,
    "editable": true
   },
   "outputs": [],
   "source": [
    "rs_mlp = []\n",
    "rs_mlp.append(results_mlp.mean())\n",
    "rs_mlp.append(accuracy_score(y, predicts_mlp))\n",
    "rs_mlp.append(accuracy_score(y_test, predicts_mlp_split))"
   ]
  },
  {
   "cell_type": "markdown",
   "metadata": {
    "deletable": true,
    "editable": true
   },
   "source": [
    "# Using Support Vector Machine as classifier "
   ]
  },
  {
   "cell_type": "code",
   "execution_count": 36,
   "metadata": {
    "collapsed": false
   },
   "outputs": [
    {
     "data": {
      "text/plain": [
       "LinearSVC(C=1.0, class_weight=None, dual=True, fit_intercept=True,\n",
       "     intercept_scaling=1, loss='squared_hinge', max_iter=1000,\n",
       "     multi_class='ovr', penalty='l2', random_state=None, tol=0.0001,\n",
       "     verbose=0)"
      ]
     },
     "execution_count": 36,
     "metadata": {},
     "output_type": "execute_result"
    }
   ],
   "source": [
    "from sklearn import svm\n",
    "\n",
    "from sklearn.metrics import accuracy_score, make_scorer\n",
    "\n",
    "svm_clf = svm.LinearSVC()\n",
    "\n",
    "# parameters_svm = {'kernel': ['linear', 'rbf']}\n",
    "\n",
    "# acc_scorer_svm = make_scorer(accuracy_score)\n",
    "\n",
    "# grid_svm = GridSearchCV(svm_clf, parameters_svm, scoring=acc_scorer_svm)\n",
    "# grid_svm = grid_svm.fit(X, y)\n",
    "\n",
    "# svm_clf = grid_svm.best_estimator_\n",
    "\n",
    "svm_clf.fit(X, y)"
   ]
  },
  {
   "cell_type": "markdown",
   "metadata": {
    "deletable": true,
    "editable": true
   },
   "source": [
    "# Cross validation, folds: 10"
   ]
  },
  {
   "cell_type": "code",
   "execution_count": 37,
   "metadata": {
    "collapsed": false,
    "deletable": true,
    "editable": true
   },
   "outputs": [
    {
     "name": "stdout",
     "output_type": "stream",
     "text": [
      "0.586307657859\n"
     ]
    }
   ],
   "source": [
    "results_svm = cross_val_score(svm_clf, X, y, cv=kfold)\n",
    "print (results_svm.mean())"
   ]
  },
  {
   "cell_type": "code",
   "execution_count": 41,
   "metadata": {
    "collapsed": true
   },
   "outputs": [],
   "source": [
    "rs_svm = []\n",
    "rs_svm.append(results_svm.mean())\n",
    "rs_svm.append(-1)\n",
    "rs_svm.append(-1)"
   ]
  },
  {
   "cell_type": "markdown",
   "metadata": {
    "collapsed": true,
    "deletable": true,
    "editable": true
   },
   "source": [
    "# Features importances"
   ]
  },
  {
   "cell_type": "code",
   "execution_count": 38,
   "metadata": {
    "collapsed": false,
    "deletable": true,
    "editable": true
   },
   "outputs": [
    {
     "name": "stdout",
     "output_type": "stream",
     "text": [
      "[ 0.05875862  0.23685209  0.34626272  0.04638603  0.02203141  0.04460186\n",
      "  0.12243624  0.09079107  0.03187996]\n"
     ]
    }
   ],
   "source": [
    "from sklearn.ensemble import ExtraTreesClassifier\n",
    "\n",
    "model = ExtraTreesClassifier()\n",
    "model.fit(X, y)\n",
    "print(model.feature_importances_)"
   ]
  },
  {
   "cell_type": "markdown",
   "metadata": {
    "deletable": true,
    "editable": true
   },
   "source": [
    "# Accuracy table"
   ]
  },
  {
   "cell_type": "code",
   "execution_count": 42,
   "metadata": {
    "collapsed": false,
    "deletable": true,
    "editable": true
   },
   "outputs": [
    {
     "data": {
      "text/html": [
       "<div>\n",
       "<table border=\"1\" class=\"dataframe\">\n",
       "  <thead>\n",
       "    <tr style=\"text-align: right;\">\n",
       "      <th></th>\n",
       "      <th>cross_validation</th>\n",
       "      <th>training_set</th>\n",
       "      <th>percentage_split</th>\n",
       "    </tr>\n",
       "  </thead>\n",
       "  <tbody>\n",
       "    <tr>\n",
       "      <th>logistic_regression</th>\n",
       "      <td>0.961955</td>\n",
       "      <td>0.970588</td>\n",
       "      <td>0.984881</td>\n",
       "    </tr>\n",
       "    <tr>\n",
       "      <th>gradient_boosting</th>\n",
       "      <td>0.978833</td>\n",
       "      <td>1.000000</td>\n",
       "      <td>0.980562</td>\n",
       "    </tr>\n",
       "    <tr>\n",
       "      <th>multilayer_perceptron</th>\n",
       "      <td>0.406464</td>\n",
       "      <td>0.564014</td>\n",
       "      <td>0.455724</td>\n",
       "    </tr>\n",
       "    <tr>\n",
       "      <th>support vector machine</th>\n",
       "      <td>0.586308</td>\n",
       "      <td>-1.000000</td>\n",
       "      <td>-1.000000</td>\n",
       "    </tr>\n",
       "  </tbody>\n",
       "</table>\n",
       "</div>"
      ],
      "text/plain": [
       "                        cross_validation  training_set  percentage_split\n",
       "logistic_regression             0.961955      0.970588          0.984881\n",
       "gradient_boosting               0.978833      1.000000          0.980562\n",
       "multilayer_perceptron           0.406464      0.564014          0.455724\n",
       "support vector machine          0.586308     -1.000000         -1.000000"
      ]
     },
     "execution_count": 42,
     "metadata": {},
     "output_type": "execute_result"
    }
   ],
   "source": [
    "cmns = ['cross_validation', 'training_set', 'percentage_split']\n",
    "idx = ['logistic_regression', 'gradient_boosting', 'multilayer_perceptron', 'support vector machine']\n",
    "t = pd.DataFrame([rs_lrc, rs_gbc, rs_mlp, rs_svm], index=idx, columns=cmns)\n",
    "\n",
    "t"
   ]
  },
  {
   "cell_type": "markdown",
   "metadata": {},
   "source": [
    "*-1 : não foi utilizado"
   ]
  },
  {
   "cell_type": "code",
   "execution_count": null,
   "metadata": {
    "collapsed": false,
    "deletable": true,
    "editable": true
   },
   "outputs": [],
   "source": []
  }
 ],
 "metadata": {
  "kernelspec": {
   "display_name": "Python 2",
   "language": "python",
   "name": "python2"
  },
  "language_info": {
   "codemirror_mode": {
    "name": "ipython",
    "version": 2
   },
   "file_extension": ".py",
   "mimetype": "text/x-python",
   "name": "python",
   "nbconvert_exporter": "python",
   "pygments_lexer": "ipython2",
   "version": "2.7.13"
  }
 },
 "nbformat": 4,
 "nbformat_minor": 2
}
