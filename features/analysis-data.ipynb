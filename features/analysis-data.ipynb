{
 "cells": [
  {
   "cell_type": "code",
   "execution_count": 1,
   "metadata": {
    "collapsed": true,
    "deletable": true,
    "editable": true
   },
   "outputs": [],
   "source": [
    "%matplotlib inline\n",
    "import matplotlib.pyplot as plt\n",
    "import numpy as np\n",
    "import pandas as pd"
   ]
  },
  {
   "cell_type": "code",
   "execution_count": 2,
   "metadata": {
    "collapsed": false,
    "deletable": true,
    "editable": true
   },
   "outputs": [],
   "source": [
    "train = pd.read_csv('sounds.csv')"
   ]
  },
  {
   "cell_type": "code",
   "execution_count": 3,
   "metadata": {
    "collapsed": false,
    "deletable": true,
    "editable": true
   },
   "outputs": [
    {
     "data": {
      "text/html": [
       "<div>\n",
       "<table border=\"1\" class=\"dataframe\">\n",
       "  <thead>\n",
       "    <tr style=\"text-align: right;\">\n",
       "      <th></th>\n",
       "      <th>avg</th>\n",
       "      <th>desviopadrao</th>\n",
       "      <th>segundomomento</th>\n",
       "      <th>terceiromomento</th>\n",
       "      <th>assimetria</th>\n",
       "      <th>curtose</th>\n",
       "      <th>desviomedio</th>\n",
       "      <th>n_peaks_valleys</th>\n",
       "      <th>avg_n_peaks_valleys</th>\n",
       "      <th>classe</th>\n",
       "    </tr>\n",
       "  </thead>\n",
       "  <tbody>\n",
       "    <tr>\n",
       "      <th>502</th>\n",
       "      <td>-1.300097</td>\n",
       "      <td>1377.186452</td>\n",
       "      <td>1.896644e+06</td>\n",
       "      <td>-1.755637e+07</td>\n",
       "      <td>-0.003889</td>\n",
       "      <td>7.736688</td>\n",
       "      <td>859.553401</td>\n",
       "      <td>30590</td>\n",
       "      <td>5.350834</td>\n",
       "      <td>positive</td>\n",
       "    </tr>\n",
       "    <tr>\n",
       "      <th>350</th>\n",
       "      <td>-0.129624</td>\n",
       "      <td>1531.636142</td>\n",
       "      <td>2.345909e+06</td>\n",
       "      <td>-6.825030e+07</td>\n",
       "      <td>-0.018741</td>\n",
       "      <td>4.923495</td>\n",
       "      <td>1061.516907</td>\n",
       "      <td>29451</td>\n",
       "      <td>0.476724</td>\n",
       "      <td>negative</td>\n",
       "    </tr>\n",
       "    <tr>\n",
       "      <th>1107</th>\n",
       "      <td>-0.017574</td>\n",
       "      <td>1801.932541</td>\n",
       "      <td>3.246961e+06</td>\n",
       "      <td>-3.495197e+08</td>\n",
       "      <td>-0.059709</td>\n",
       "      <td>7.395830</td>\n",
       "      <td>1103.323201</td>\n",
       "      <td>23538</td>\n",
       "      <td>-0.871782</td>\n",
       "      <td>positive</td>\n",
       "    </tr>\n",
       "    <tr>\n",
       "      <th>342</th>\n",
       "      <td>4.011650</td>\n",
       "      <td>3535.172201</td>\n",
       "      <td>1.249746e+07</td>\n",
       "      <td>2.056264e+09</td>\n",
       "      <td>0.043138</td>\n",
       "      <td>0.562168</td>\n",
       "      <td>2765.087826</td>\n",
       "      <td>17213</td>\n",
       "      <td>12.292453</td>\n",
       "      <td>positive</td>\n",
       "    </tr>\n",
       "    <tr>\n",
       "      <th>783</th>\n",
       "      <td>3.043542</td>\n",
       "      <td>2110.846883</td>\n",
       "      <td>4.455684e+06</td>\n",
       "      <td>5.616815e+08</td>\n",
       "      <td>0.055394</td>\n",
       "      <td>2.438402</td>\n",
       "      <td>1545.404435</td>\n",
       "      <td>16229</td>\n",
       "      <td>-4.267854</td>\n",
       "      <td>neutral</td>\n",
       "    </tr>\n",
       "  </tbody>\n",
       "</table>\n",
       "</div>"
      ],
      "text/plain": [
       "           avg  desviopadrao  segundomomento  terceiromomento  assimetria  \\\n",
       "502  -1.300097   1377.186452    1.896644e+06    -1.755637e+07   -0.003889   \n",
       "350  -0.129624   1531.636142    2.345909e+06    -6.825030e+07   -0.018741   \n",
       "1107 -0.017574   1801.932541    3.246961e+06    -3.495197e+08   -0.059709   \n",
       "342   4.011650   3535.172201    1.249746e+07     2.056264e+09    0.043138   \n",
       "783   3.043542   2110.846883    4.455684e+06     5.616815e+08    0.055394   \n",
       "\n",
       "       curtose  desviomedio  n_peaks_valleys  avg_n_peaks_valleys    classe  \n",
       "502   7.736688   859.553401            30590             5.350834  positive  \n",
       "350   4.923495  1061.516907            29451             0.476724  negative  \n",
       "1107  7.395830  1103.323201            23538            -0.871782  positive  \n",
       "342   0.562168  2765.087826            17213            12.292453  positive  \n",
       "783   2.438402  1545.404435            16229            -4.267854   neutral  "
      ]
     },
     "execution_count": 3,
     "metadata": {},
     "output_type": "execute_result"
    }
   ],
   "source": [
    "train.sample(5)"
   ]
  },
  {
   "cell_type": "code",
   "execution_count": 4,
   "metadata": {
    "collapsed": false,
    "deletable": true,
    "editable": true
   },
   "outputs": [],
   "source": [
    "X = train.drop(['classe'], axis=1)\n",
    "y = train['classe']"
   ]
  },
  {
   "cell_type": "code",
   "execution_count": 5,
   "metadata": {
    "collapsed": false,
    "deletable": true,
    "editable": true,
    "scrolled": false
   },
   "outputs": [
    {
     "data": {
      "text/html": [
       "<div>\n",
       "<table border=\"1\" class=\"dataframe\">\n",
       "  <thead>\n",
       "    <tr style=\"text-align: right;\">\n",
       "      <th></th>\n",
       "      <th>avg</th>\n",
       "      <th>desviopadrao</th>\n",
       "      <th>segundomomento</th>\n",
       "      <th>terceiromomento</th>\n",
       "      <th>assimetria</th>\n",
       "      <th>curtose</th>\n",
       "      <th>desviomedio</th>\n",
       "      <th>n_peaks_valleys</th>\n",
       "      <th>avg_n_peaks_valleys</th>\n",
       "    </tr>\n",
       "  </thead>\n",
       "  <tbody>\n",
       "    <tr>\n",
       "      <th>0</th>\n",
       "      <td>0.475143</td>\n",
       "      <td>1176.098239</td>\n",
       "      <td>1.383207e+06</td>\n",
       "      <td>-8.470356e+07</td>\n",
       "      <td>-0.053280</td>\n",
       "      <td>7.733721</td>\n",
       "      <td>607.126482</td>\n",
       "      <td>19409</td>\n",
       "      <td>12.915400</td>\n",
       "    </tr>\n",
       "    <tr>\n",
       "      <th>1</th>\n",
       "      <td>0.209215</td>\n",
       "      <td>1072.620648</td>\n",
       "      <td>1.150515e+06</td>\n",
       "      <td>-8.000061e+07</td>\n",
       "      <td>-0.065412</td>\n",
       "      <td>4.233658</td>\n",
       "      <td>660.401005</td>\n",
       "      <td>18590</td>\n",
       "      <td>2.387520</td>\n",
       "    </tr>\n",
       "    <tr>\n",
       "      <th>2</th>\n",
       "      <td>0.243455</td>\n",
       "      <td>1320.069633</td>\n",
       "      <td>1.742584e+06</td>\n",
       "      <td>-5.292785e+07</td>\n",
       "      <td>-0.023562</td>\n",
       "      <td>5.067684</td>\n",
       "      <td>751.342405</td>\n",
       "      <td>15324</td>\n",
       "      <td>-2.983947</td>\n",
       "    </tr>\n",
       "    <tr>\n",
       "      <th>3</th>\n",
       "      <td>0.301834</td>\n",
       "      <td>1255.406197</td>\n",
       "      <td>1.576045e+06</td>\n",
       "      <td>4.611416e+06</td>\n",
       "      <td>0.001609</td>\n",
       "      <td>9.471419</td>\n",
       "      <td>633.506611</td>\n",
       "      <td>24749</td>\n",
       "      <td>-11.829124</td>\n",
       "    </tr>\n",
       "    <tr>\n",
       "      <th>4</th>\n",
       "      <td>-0.201644</td>\n",
       "      <td>1798.862214</td>\n",
       "      <td>3.235905e+06</td>\n",
       "      <td>-7.901591e+07</td>\n",
       "      <td>-0.013238</td>\n",
       "      <td>3.221882</td>\n",
       "      <td>1072.070181</td>\n",
       "      <td>17460</td>\n",
       "      <td>-14.790951</td>\n",
       "    </tr>\n",
       "  </tbody>\n",
       "</table>\n",
       "</div>"
      ],
      "text/plain": [
       "        avg  desviopadrao  segundomomento  terceiromomento  assimetria  \\\n",
       "0  0.475143   1176.098239    1.383207e+06    -8.470356e+07   -0.053280   \n",
       "1  0.209215   1072.620648    1.150515e+06    -8.000061e+07   -0.065412   \n",
       "2  0.243455   1320.069633    1.742584e+06    -5.292785e+07   -0.023562   \n",
       "3  0.301834   1255.406197    1.576045e+06     4.611416e+06    0.001609   \n",
       "4 -0.201644   1798.862214    3.235905e+06    -7.901591e+07   -0.013238   \n",
       "\n",
       "    curtose  desviomedio  n_peaks_valleys  avg_n_peaks_valleys  \n",
       "0  7.733721   607.126482            19409            12.915400  \n",
       "1  4.233658   660.401005            18590             2.387520  \n",
       "2  5.067684   751.342405            15324            -2.983947  \n",
       "3  9.471419   633.506611            24749           -11.829124  \n",
       "4  3.221882  1072.070181            17460           -14.790951  "
      ]
     },
     "execution_count": 5,
     "metadata": {},
     "output_type": "execute_result"
    }
   ],
   "source": [
    "X.head()"
   ]
  },
  {
   "cell_type": "code",
   "execution_count": 6,
   "metadata": {
    "collapsed": false,
    "deletable": true,
    "editable": true
   },
   "outputs": [
    {
     "data": {
      "text/plain": [
       "0    positive\n",
       "1     neutral\n",
       "2    positive\n",
       "3    negative\n",
       "4    negative\n",
       "Name: classe, dtype: object"
      ]
     },
     "execution_count": 6,
     "metadata": {},
     "output_type": "execute_result"
    }
   ],
   "source": [
    "y.head()"
   ]
  },
  {
   "cell_type": "markdown",
   "metadata": {
    "deletable": true,
    "editable": true
   },
   "source": [
    "# Number of instances"
   ]
  },
  {
   "cell_type": "code",
   "execution_count": 7,
   "metadata": {
    "collapsed": false,
    "deletable": true,
    "editable": true
   },
   "outputs": [
    {
     "data": {
      "text/plain": [
       "<matplotlib.axes._subplots.AxesSubplot at 0x7fa657a22690>"
      ]
     },
     "execution_count": 7,
     "metadata": {},
     "output_type": "execute_result"
    },
    {
     "data": {
      "image/png": "[encoded data removed]",
      "text/plain": [
       "<matplotlib.figure.Figure at 0x7fa661879d10>"
      ]
     },
     "metadata": {},
     "output_type": "display_data"
    }
   ],
   "source": [
    "train.classe.value_counts().plot(kind='bar', title = u'Number of instances per class', figsize=(8,5))"
   ]
  },
  {
   "cell_type": "markdown",
   "metadata": {},
   "source": [
    "# Using KFold as cross validation"
   ]
  },
  {
   "cell_type": "code",
   "execution_count": 8,
   "metadata": {
    "collapsed": false
   },
   "outputs": [],
   "source": [
    "from sklearn.model_selection import cross_val_score, KFold\n",
    "\n",
    "kfold = KFold(n_splits=10, random_state=7)"
   ]
  },
  {
   "cell_type": "markdown",
   "metadata": {},
   "source": [
    "# Split data"
   ]
  },
  {
   "cell_type": "code",
   "execution_count": 9,
   "metadata": {
    "collapsed": false
   },
   "outputs": [],
   "source": [
    "from sklearn.model_selection import train_test_split\n",
    "\n",
    "per_split = 20\n",
    "\n",
    "X_train, X_test, y_train, y_test = train_test_split(X, y, test_size = per_split, random_state = 11)"
   ]
  },
  {
   "cell_type": "markdown",
   "metadata": {},
   "source": [
    "# Import confusion matrix"
   ]
  },
  {
   "cell_type": "code",
   "execution_count": 39,
   "metadata": {
    "collapsed": false,
    "deletable": true,
    "editable": true
   },
   "outputs": [],
   "source": [
    "from sklearn.metrics import confusion_matrix\n",
    "\n",
    "nomes_linhas = ['positive', 'negative', 'neutral']\n",
    "nomes_cols = ['positive', 'negative', 'neutral']"
   ]
  },
  {
   "cell_type": "markdown",
   "metadata": {},
   "source": [
    "# Using Logistic Regression as classifier"
   ]
  },
  {
   "cell_type": "code",
   "execution_count": 10,
   "metadata": {
    "collapsed": false
   },
   "outputs": [
    {
     "data": {
      "text/plain": [
       "LogisticRegression(C=1.0, class_weight=None, dual=False, fit_intercept=True,\n",
       "          intercept_scaling=1, max_iter=10, multi_class='ovr', n_jobs=-1,\n",
       "          penalty='l1', random_state=None, solver='liblinear', tol=0.0001,\n",
       "          verbose=0, warm_start=False)"
      ]
     },
     "execution_count": 10,
     "metadata": {},
     "output_type": "execute_result"
    }
   ],
   "source": [
    "from sklearn.linear_model import LogisticRegression\n",
    "from sklearn.model_selection import GridSearchCV\n",
    "from sklearn.metrics import accuracy_score, make_scorer\n",
    "from sklearn.model_selection import train_test_split\n",
    "\n",
    "lrc = LogisticRegression()\n",
    "\n",
    "parameters_lrc = {'penalty': ['l1', 'l2'],\n",
    "                'max_iter': [10, 20, 30, 50, 100, 200, 500],\n",
    "                'n_jobs': [-1]\n",
    "               }\n",
    "\n",
    "acc_score = make_scorer(accuracy_score)\n",
    "\n",
    "grid_lrc = GridSearchCV(lrc, parameters_lrc, scoring=acc_score)\n",
    "grid_lrc = grid_lrc.fit(X, y)\n",
    "\n",
    "lrc = grid_lrc.best_estimator_\n",
    "\n",
    "lrc.fit(X, y)"
   ]
  },
  {
   "cell_type": "markdown",
   "metadata": {},
   "source": [
    "# Cross validation, folds: 10"
   ]
  },
  {
   "cell_type": "code",
   "execution_count": 11,
   "metadata": {
    "collapsed": false
   },
   "outputs": [
    {
     "name": "stdout",
     "output_type": "stream",
     "text": [
      "0.405764617691\n"
     ]
    }
   ],
   "source": [
    "results_lrc = cross_val_score(lrc, X, y, cv=kfold)\n",
    "print (results_lrc.mean())"
   ]
  },
  {
   "cell_type": "markdown",
   "metadata": {},
   "source": [
    "# Training set"
   ]
  },
  {
   "cell_type": "code",
   "execution_count": 18,
   "metadata": {
    "collapsed": false,
    "scrolled": true
   },
   "outputs": [
    {
     "name": "stdout",
     "output_type": "stream",
     "text": [
      "0.439446366782\n"
     ]
    }
   ],
   "source": [
    "predicts_lrc = lrc.predict(X)\n",
    "print (accuracy_score(y, predicts_lrc))"
   ]
  },
  {
   "cell_type": "markdown",
   "metadata": {},
   "source": [
    "# Confusion matrix of training set"
   ]
  },
  {
   "cell_type": "code",
   "execution_count": 42,
   "metadata": {
    "collapsed": false
   },
   "outputs": [
    {
     "data": {
      "text/html": [
       "<div>\n",
       "<table border=\"1\" class=\"dataframe\">\n",
       "  <thead>\n",
       "    <tr style=\"text-align: right;\">\n",
       "      <th></th>\n",
       "      <th>positive</th>\n",
       "      <th>negative</th>\n",
       "      <th>neutral</th>\n",
       "    </tr>\n",
       "  </thead>\n",
       "  <tbody>\n",
       "    <tr>\n",
       "      <th>positive</th>\n",
       "      <td>293</td>\n",
       "      <td>20</td>\n",
       "      <td>125</td>\n",
       "    </tr>\n",
       "    <tr>\n",
       "      <th>negative</th>\n",
       "      <td>233</td>\n",
       "      <td>23</td>\n",
       "      <td>94</td>\n",
       "    </tr>\n",
       "    <tr>\n",
       "      <th>neutral</th>\n",
       "      <td>167</td>\n",
       "      <td>9</td>\n",
       "      <td>192</td>\n",
       "    </tr>\n",
       "  </tbody>\n",
       "</table>\n",
       "</div>"
      ],
      "text/plain": [
       "          positive  negative  neutral\n",
       "positive       293        20      125\n",
       "negative       233        23       94\n",
       "neutral        167         9      192"
      ]
     },
     "execution_count": 42,
     "metadata": {},
     "output_type": "execute_result"
    }
   ],
   "source": [
    "cm_ts_lrc = pd.DataFrame(confusion_matrix(y, predicts_lrc, labels=['positive', 'negative', 'neutral']), index=nomes_linhas, columns=nomes_cols)\n",
    "cm_ts_lrc"
   ]
  },
  {
   "cell_type": "markdown",
   "metadata": {},
   "source": [
    "# Percentage split"
   ]
  },
  {
   "cell_type": "code",
   "execution_count": 19,
   "metadata": {
    "collapsed": false
   },
   "outputs": [
    {
     "name": "stdout",
     "output_type": "stream",
     "text": [
      "0.45\n"
     ]
    }
   ],
   "source": [
    "lrc.fit(X_train, y_train)\n",
    "predicts_lrc_split = lrc.predict(X_test)\n",
    "print (accuracy_score(y_test, predicts_lrc_split))"
   ]
  },
  {
   "cell_type": "markdown",
   "metadata": {},
   "source": [
    "# Confusion matrix of split"
   ]
  },
  {
   "cell_type": "code",
   "execution_count": 54,
   "metadata": {
    "collapsed": false
   },
   "outputs": [
    {
     "data": {
      "text/html": [
       "<div>\n",
       "<table border=\"1\" class=\"dataframe\">\n",
       "  <thead>\n",
       "    <tr style=\"text-align: right;\">\n",
       "      <th></th>\n",
       "      <th>positive</th>\n",
       "      <th>negative</th>\n",
       "      <th>neutral</th>\n",
       "    </tr>\n",
       "  </thead>\n",
       "  <tbody>\n",
       "    <tr>\n",
       "      <th>positive</th>\n",
       "      <td>5</td>\n",
       "      <td>1</td>\n",
       "      <td>3</td>\n",
       "    </tr>\n",
       "    <tr>\n",
       "      <th>negative</th>\n",
       "      <td>3</td>\n",
       "      <td>1</td>\n",
       "      <td>0</td>\n",
       "    </tr>\n",
       "    <tr>\n",
       "      <th>neutral</th>\n",
       "      <td>4</td>\n",
       "      <td>0</td>\n",
       "      <td>3</td>\n",
       "    </tr>\n",
       "  </tbody>\n",
       "</table>\n",
       "</div>"
      ],
      "text/plain": [
       "          positive  negative  neutral\n",
       "positive         5         1        3\n",
       "negative         3         1        0\n",
       "neutral          4         0        3"
      ]
     },
     "execution_count": 54,
     "metadata": {},
     "output_type": "execute_result"
    }
   ],
   "source": [
    "cm_ts_lrc_s = pd.DataFrame(confusion_matrix(y_test, predicts_lrc_split, labels=['positive', 'negative', 'neutral']), index=nomes_linhas, columns=nomes_cols)\n",
    "cm_ts_lrc_s"
   ]
  },
  {
   "cell_type": "code",
   "execution_count": 63,
   "metadata": {
    "collapsed": true
   },
   "outputs": [],
   "source": [
    "rs_lrc = []\n",
    "rs_lrc.append(results_lrc.mean())\n",
    "rs_lrc.append(accuracy_score(y, predicts_lrc))\n",
    "rs_lrc.append(accuracy_score(y_test, predicts_lrc_split))"
   ]
  },
  {
   "cell_type": "markdown",
   "metadata": {},
   "source": [
    "# Using Gradient Boosting as classifier"
   ]
  },
  {
   "cell_type": "code",
   "execution_count": 16,
   "metadata": {
    "collapsed": false
   },
   "outputs": [
    {
     "data": {
      "text/plain": [
       "GradientBoostingClassifier(criterion='friedman_mse', init=None,\n",
       "              learning_rate=0.01, loss='deviance', max_depth=3,\n",
       "              max_features='auto', max_leaf_nodes=None,\n",
       "              min_impurity_split=1e-07, min_samples_leaf=1,\n",
       "              min_samples_split=2, min_weight_fraction_leaf=0.0,\n",
       "              n_estimators=250, presort='auto', random_state=None,\n",
       "              subsample=1.0, verbose=0, warm_start=False)"
      ]
     },
     "execution_count": 16,
     "metadata": {},
     "output_type": "execute_result"
    }
   ],
   "source": [
    "from sklearn.ensemble import GradientBoostingClassifier\n",
    "\n",
    "gbc = GradientBoostingClassifier()\n",
    "\n",
    "parameters_gbc = {'learning_rate': [0.01, 0.1, 0.05],\n",
    "                  'n_estimators': [100, 250, 500],\n",
    "                  'max_depth': [3, 5, 10],\n",
    "                  'max_features': ['auto', 'log2']}\n",
    "\n",
    "acc_score_gbc = make_scorer(accuracy_score)\n",
    "\n",
    "grid_gbc = GridSearchCV(gbc, parameters_gbc, scoring=acc_score_gbc)\n",
    "grid_gbc = grid_gbc.fit(X, y)\n",
    "\n",
    "gbc = grid_gbc.best_estimator_\n",
    "\n",
    "gbc.fit(X, y)"
   ]
  },
  {
   "cell_type": "markdown",
   "metadata": {},
   "source": [
    "# Cross validation"
   ]
  },
  {
   "cell_type": "code",
   "execution_count": 20,
   "metadata": {
    "collapsed": false
   },
   "outputs": [
    {
     "name": "stdout",
     "output_type": "stream",
     "text": [
      "0.424775112444\n"
     ]
    }
   ],
   "source": [
    "results_gbc = cross_val_score(gbc, X, y, cv=kfold)\n",
    "print (results_gbc.mean())"
   ]
  },
  {
   "cell_type": "markdown",
   "metadata": {},
   "source": [
    "# Training set"
   ]
  },
  {
   "cell_type": "code",
   "execution_count": 21,
   "metadata": {
    "collapsed": false
   },
   "outputs": [
    {
     "name": "stdout",
     "output_type": "stream",
     "text": [
      "0.583044982699\n"
     ]
    }
   ],
   "source": [
    "predicts_gbc = gbc.predict(X)\n",
    "print (accuracy_score(y, predicts_gbc))"
   ]
  },
  {
   "cell_type": "markdown",
   "metadata": {},
   "source": [
    "# Confusion matrix of training set"
   ]
  },
  {
   "cell_type": "code",
   "execution_count": 55,
   "metadata": {
    "collapsed": false,
    "scrolled": true
   },
   "outputs": [
    {
     "data": {
      "text/html": [
       "<div>\n",
       "<table border=\"1\" class=\"dataframe\">\n",
       "  <thead>\n",
       "    <tr style=\"text-align: right;\">\n",
       "      <th></th>\n",
       "      <th>positive</th>\n",
       "      <th>negative</th>\n",
       "      <th>neutral</th>\n",
       "    </tr>\n",
       "  </thead>\n",
       "  <tbody>\n",
       "    <tr>\n",
       "      <th>positive</th>\n",
       "      <td>334</td>\n",
       "      <td>21</td>\n",
       "      <td>83</td>\n",
       "    </tr>\n",
       "    <tr>\n",
       "      <th>negative</th>\n",
       "      <td>169</td>\n",
       "      <td>118</td>\n",
       "      <td>63</td>\n",
       "    </tr>\n",
       "    <tr>\n",
       "      <th>neutral</th>\n",
       "      <td>119</td>\n",
       "      <td>27</td>\n",
       "      <td>222</td>\n",
       "    </tr>\n",
       "  </tbody>\n",
       "</table>\n",
       "</div>"
      ],
      "text/plain": [
       "          positive  negative  neutral\n",
       "positive       334        21       83\n",
       "negative       169       118       63\n",
       "neutral        119        27      222"
      ]
     },
     "execution_count": 55,
     "metadata": {},
     "output_type": "execute_result"
    }
   ],
   "source": [
    "cm_ts_gbc = pd.DataFrame(confusion_matrix(y, predicts_gbc, labels=['positive', 'negative', 'neutral']), index=nomes_linhas, columns=nomes_cols)\n",
    "cm_ts_gbc"
   ]
  },
  {
   "cell_type": "markdown",
   "metadata": {},
   "source": [
    "# Percentage split"
   ]
  },
  {
   "cell_type": "code",
   "execution_count": 25,
   "metadata": {
    "collapsed": false
   },
   "outputs": [
    {
     "name": "stdout",
     "output_type": "stream",
     "text": [
      "0.5\n"
     ]
    }
   ],
   "source": [
    "gbc.fit(X_train, y_train)\n",
    "predicts_gbc_split = gbc.predict(X_test)\n",
    "print (accuracy_score(y_test, predicts_gbc_split))"
   ]
  },
  {
   "cell_type": "markdown",
   "metadata": {},
   "source": [
    "# Confusion matrix of split"
   ]
  },
  {
   "cell_type": "code",
   "execution_count": 56,
   "metadata": {
    "collapsed": false
   },
   "outputs": [
    {
     "data": {
      "text/html": [
       "<div>\n",
       "<table border=\"1\" class=\"dataframe\">\n",
       "  <thead>\n",
       "    <tr style=\"text-align: right;\">\n",
       "      <th></th>\n",
       "      <th>positive</th>\n",
       "      <th>negative</th>\n",
       "      <th>neutral</th>\n",
       "    </tr>\n",
       "  </thead>\n",
       "  <tbody>\n",
       "    <tr>\n",
       "      <th>positive</th>\n",
       "      <td>3</td>\n",
       "      <td>3</td>\n",
       "      <td>3</td>\n",
       "    </tr>\n",
       "    <tr>\n",
       "      <th>negative</th>\n",
       "      <td>0</td>\n",
       "      <td>4</td>\n",
       "      <td>0</td>\n",
       "    </tr>\n",
       "    <tr>\n",
       "      <th>neutral</th>\n",
       "      <td>2</td>\n",
       "      <td>2</td>\n",
       "      <td>3</td>\n",
       "    </tr>\n",
       "  </tbody>\n",
       "</table>\n",
       "</div>"
      ],
      "text/plain": [
       "          positive  negative  neutral\n",
       "positive         3         3        3\n",
       "negative         0         4        0\n",
       "neutral          2         2        3"
      ]
     },
     "execution_count": 56,
     "metadata": {},
     "output_type": "execute_result"
    }
   ],
   "source": [
    "cm_ts_gbc_s = pd.DataFrame(confusion_matrix(y_test, predicts_gbc_split, labels=['positive', 'negative', 'neutral']), index=nomes_linhas, columns=nomes_cols)\n",
    "cm_ts_gbc_s"
   ]
  },
  {
   "cell_type": "code",
   "execution_count": 65,
   "metadata": {
    "collapsed": true
   },
   "outputs": [],
   "source": [
    "rs_gbc = []\n",
    "rs_gbc.append(results_gbc.mean())\n",
    "rs_gbc.append(accuracy_score(y, predicts_gbc))\n",
    "rs_gbc.append(accuracy_score(y_test, predicts_gbc_split))"
   ]
  },
  {
   "cell_type": "markdown",
   "metadata": {},
   "source": [
    "# Using decision tree"
   ]
  },
  {
   "cell_type": "code",
   "execution_count": 26,
   "metadata": {
    "collapsed": false
   },
   "outputs": [
    {
     "data": {
      "text/plain": [
       "DecisionTreeClassifier(class_weight=None, criterion='gini', max_depth=None,\n",
       "            max_features='log2', max_leaf_nodes=None,\n",
       "            min_impurity_split=1e-07, min_samples_leaf=1,\n",
       "            min_samples_split=2, min_weight_fraction_leaf=0.0,\n",
       "            presort=False, random_state=None, splitter='best')"
      ]
     },
     "execution_count": 26,
     "metadata": {},
     "output_type": "execute_result"
    }
   ],
   "source": [
    "from sklearn.tree import DecisionTreeClassifier\n",
    "\n",
    "clf_dtc = DecisionTreeClassifier()\n",
    "\n",
    "parameters_dtc = {'max_features': ['auto', 'log2'],\n",
    "                'criterion': ['gini', 'entropy']\n",
    "               }\n",
    "\n",
    "acc_score_dtc = make_scorer(accuracy_score)\n",
    "\n",
    "grid_dtc = GridSearchCV(clf_dtc, parameters_dtc, scoring=acc_score_dtc)\n",
    "grid_dtc = grid_dtc.fit(X, y)\n",
    "\n",
    "clf_dtc = grid_dtc.best_estimator_\n",
    "\n",
    "clf_dtc.fit(X, y)"
   ]
  },
  {
   "cell_type": "markdown",
   "metadata": {},
   "source": [
    "# Cross validation, folds: 10"
   ]
  },
  {
   "cell_type": "code",
   "execution_count": 27,
   "metadata": {
    "collapsed": false
   },
   "outputs": [
    {
     "name": "stdout",
     "output_type": "stream",
     "text": [
      "0.367713643178\n"
     ]
    }
   ],
   "source": [
    "results_dtc = cross_val_score(clf_dtc, X, y, cv=kfold)\n",
    "print (results_dtc.mean())"
   ]
  },
  {
   "cell_type": "markdown",
   "metadata": {},
   "source": [
    "# Percentage split"
   ]
  },
  {
   "cell_type": "code",
   "execution_count": 30,
   "metadata": {
    "collapsed": false,
    "scrolled": true
   },
   "outputs": [
    {
     "name": "stdout",
     "output_type": "stream",
     "text": [
      "0.5\n"
     ]
    }
   ],
   "source": [
    "clf_dtc.fit(X_train, y_train)\n",
    "predicts_dtc_split = clf_dtc.predict(X_test)\n",
    "print (accuracy_score(y_test, predicts_dtc_split))"
   ]
  },
  {
   "cell_type": "markdown",
   "metadata": {},
   "source": [
    "# Confusion matrix of split"
   ]
  },
  {
   "cell_type": "code",
   "execution_count": 57,
   "metadata": {
    "collapsed": false
   },
   "outputs": [
    {
     "data": {
      "text/html": [
       "<div>\n",
       "<table border=\"1\" class=\"dataframe\">\n",
       "  <thead>\n",
       "    <tr style=\"text-align: right;\">\n",
       "      <th></th>\n",
       "      <th>positive</th>\n",
       "      <th>negative</th>\n",
       "      <th>neutral</th>\n",
       "    </tr>\n",
       "  </thead>\n",
       "  <tbody>\n",
       "    <tr>\n",
       "      <th>positive</th>\n",
       "      <td>3</td>\n",
       "      <td>4</td>\n",
       "      <td>2</td>\n",
       "    </tr>\n",
       "    <tr>\n",
       "      <th>negative</th>\n",
       "      <td>1</td>\n",
       "      <td>3</td>\n",
       "      <td>0</td>\n",
       "    </tr>\n",
       "    <tr>\n",
       "      <th>neutral</th>\n",
       "      <td>0</td>\n",
       "      <td>3</td>\n",
       "      <td>4</td>\n",
       "    </tr>\n",
       "  </tbody>\n",
       "</table>\n",
       "</div>"
      ],
      "text/plain": [
       "          positive  negative  neutral\n",
       "positive         3         4        2\n",
       "negative         1         3        0\n",
       "neutral          0         3        4"
      ]
     },
     "execution_count": 57,
     "metadata": {},
     "output_type": "execute_result"
    }
   ],
   "source": [
    "cm_ts_dtc_s = pd.DataFrame(confusion_matrix(y_test, predicts_dtc_split, labels=['positive', 'negative', 'neutral']), index=nomes_linhas, columns=nomes_cols)\n",
    "cm_ts_dtc_s"
   ]
  },
  {
   "cell_type": "markdown",
   "metadata": {},
   "source": [
    "# Using Multilayer Perceptron as classifier"
   ]
  },
  {
   "cell_type": "code",
   "execution_count": 29,
   "metadata": {
    "collapsed": false,
    "deletable": true,
    "editable": true
   },
   "outputs": [
    {
     "data": {
      "text/plain": [
       "MLPClassifier(activation='relu', alpha=0.0001, batch_size='auto', beta_1=0.9,\n",
       "       beta_2=0.999, early_stopping=False, epsilon=1e-08,\n",
       "       hidden_layer_sizes=(5,), learning_rate='constant',\n",
       "       learning_rate_init=0.05, max_iter=500, momentum=0.7,\n",
       "       nesterovs_momentum=True, power_t=0.5, random_state=None,\n",
       "       shuffle=True, solver='adam', tol=0.0001, validation_fraction=0.1,\n",
       "       verbose=False, warm_start=False)"
      ]
     },
     "execution_count": 29,
     "metadata": {},
     "output_type": "execute_result"
    }
   ],
   "source": [
    "from sklearn.neural_network import MLPClassifier\n",
    "from sklearn.model_selection import GridSearchCV\n",
    "\n",
    "clf_mlp = MLPClassifier()\n",
    "\n",
    "parameters_mlp = {'hidden_layer_sizes': [(5,), (5,2), (8,), (10,), (10,2), (20,2), (20,)], \n",
    "              'max_iter': [500, 1000, 1500],\n",
    "              'learning_rate_init': [0.01, 0.05, 0.10, 0.001, 0.005],\n",
    "              'momentum': [0.2, 0.5, 0.7, 0.9]\n",
    "             }\n",
    "\n",
    "acc_score_mlp = make_scorer(accuracy_score)\n",
    "\n",
    "grid_mlp = GridSearchCV(clf_mlp, parameters_mlp, scoring=acc_score_mlp)\n",
    "grid_mlp = grid_mlp.fit(X, y)\n",
    "\n",
    "clf_mlp = grid_mlp.best_estimator_\n",
    "\n",
    "clf_mlp.fit(X, y)"
   ]
  },
  {
   "cell_type": "markdown",
   "metadata": {},
   "source": [
    "# Cross validation, folds: 10"
   ]
  },
  {
   "cell_type": "code",
   "execution_count": 38,
   "metadata": {
    "collapsed": false
   },
   "outputs": [
    {
     "name": "stdout",
     "output_type": "stream",
     "text": [
      "0.346836581709\n"
     ]
    }
   ],
   "source": [
    "results_mlp = cross_val_score(clf_mlp, X, y, cv=kfold)\n",
    "print (results_mlp.mean())"
   ]
  },
  {
   "cell_type": "markdown",
   "metadata": {},
   "source": [
    "# Training set"
   ]
  },
  {
   "cell_type": "code",
   "execution_count": 35,
   "metadata": {
    "collapsed": false,
    "deletable": true,
    "editable": true
   },
   "outputs": [
    {
     "name": "stdout",
     "output_type": "stream",
     "text": [
      "0.372837370242\n"
     ]
    }
   ],
   "source": [
    "predicts_mlp = clf_mlp.predict(X)\n",
    "print (accuracy_score(y, predicts_mlp))"
   ]
  },
  {
   "cell_type": "markdown",
   "metadata": {},
   "source": [
    "# Confusion matrix of training set"
   ]
  },
  {
   "cell_type": "code",
   "execution_count": 58,
   "metadata": {
    "collapsed": false
   },
   "outputs": [
    {
     "data": {
      "text/html": [
       "<div>\n",
       "<table border=\"1\" class=\"dataframe\">\n",
       "  <thead>\n",
       "    <tr style=\"text-align: right;\">\n",
       "      <th></th>\n",
       "      <th>positive</th>\n",
       "      <th>negative</th>\n",
       "      <th>neutral</th>\n",
       "    </tr>\n",
       "  </thead>\n",
       "  <tbody>\n",
       "    <tr>\n",
       "      <th>positive</th>\n",
       "      <td>416</td>\n",
       "      <td>10</td>\n",
       "      <td>12</td>\n",
       "    </tr>\n",
       "    <tr>\n",
       "      <th>negative</th>\n",
       "      <td>337</td>\n",
       "      <td>10</td>\n",
       "      <td>3</td>\n",
       "    </tr>\n",
       "    <tr>\n",
       "      <th>neutral</th>\n",
       "      <td>358</td>\n",
       "      <td>5</td>\n",
       "      <td>5</td>\n",
       "    </tr>\n",
       "  </tbody>\n",
       "</table>\n",
       "</div>"
      ],
      "text/plain": [
       "          positive  negative  neutral\n",
       "positive       416        10       12\n",
       "negative       337        10        3\n",
       "neutral        358         5        5"
      ]
     },
     "execution_count": 58,
     "metadata": {},
     "output_type": "execute_result"
    }
   ],
   "source": [
    "cm_ts_mlp = pd.DataFrame(confusion_matrix(y, predicts_mlp, labels=['positive', 'negative', 'neutral']), index=nomes_linhas, columns=nomes_cols)\n",
    "cm_ts_mlp"
   ]
  },
  {
   "cell_type": "markdown",
   "metadata": {},
   "source": [
    "# Percentage split"
   ]
  },
  {
   "cell_type": "code",
   "execution_count": 34,
   "metadata": {
    "collapsed": false
   },
   "outputs": [
    {
     "name": "stdout",
     "output_type": "stream",
     "text": [
      "0.4\n"
     ]
    }
   ],
   "source": [
    "clf_mlp.fit(X_train, y_train)\n",
    "predicts_mlp_split = clf_mlp.predict(X_test)\n",
    "print (accuracy_score(y_test, predicts_mlp_split))"
   ]
  },
  {
   "cell_type": "markdown",
   "metadata": {},
   "source": [
    "# Confusion matrix of split"
   ]
  },
  {
   "cell_type": "code",
   "execution_count": 59,
   "metadata": {
    "collapsed": false
   },
   "outputs": [
    {
     "data": {
      "text/html": [
       "<div>\n",
       "<table border=\"1\" class=\"dataframe\">\n",
       "  <thead>\n",
       "    <tr style=\"text-align: right;\">\n",
       "      <th></th>\n",
       "      <th>positive</th>\n",
       "      <th>negative</th>\n",
       "      <th>neutral</th>\n",
       "    </tr>\n",
       "  </thead>\n",
       "  <tbody>\n",
       "    <tr>\n",
       "      <th>positive</th>\n",
       "      <td>8</td>\n",
       "      <td>1</td>\n",
       "      <td>0</td>\n",
       "    </tr>\n",
       "    <tr>\n",
       "      <th>negative</th>\n",
       "      <td>4</td>\n",
       "      <td>0</td>\n",
       "      <td>0</td>\n",
       "    </tr>\n",
       "    <tr>\n",
       "      <th>neutral</th>\n",
       "      <td>7</td>\n",
       "      <td>0</td>\n",
       "      <td>0</td>\n",
       "    </tr>\n",
       "  </tbody>\n",
       "</table>\n",
       "</div>"
      ],
      "text/plain": [
       "          positive  negative  neutral\n",
       "positive         8         1        0\n",
       "negative         4         0        0\n",
       "neutral          7         0        0"
      ]
     },
     "execution_count": 59,
     "metadata": {},
     "output_type": "execute_result"
    }
   ],
   "source": [
    "cm_ts_mlp_s = pd.DataFrame(confusion_matrix(y_test, predicts_mlp_split, labels=['positive', 'negative', 'neutral']), index=nomes_linhas, columns=nomes_cols)\n",
    "cm_ts_mlp_s"
   ]
  },
  {
   "cell_type": "code",
   "execution_count": 66,
   "metadata": {
    "collapsed": true
   },
   "outputs": [],
   "source": [
    "rs_mlp = []\n",
    "rs_mlp.append(results_mlp.mean())\n",
    "rs_mlp.append(accuracy_score(y, predicts_mlp))\n",
    "rs_mlp.append(accuracy_score(y_test, predicts_mlp_split))"
   ]
  },
  {
   "cell_type": "markdown",
   "metadata": {
    "collapsed": true,
    "deletable": true,
    "editable": true
   },
   "source": [
    "# Feature importances"
   ]
  },
  {
   "cell_type": "code",
   "execution_count": 60,
   "metadata": {
    "collapsed": false,
    "deletable": true,
    "editable": true
   },
   "outputs": [
    {
     "name": "stdout",
     "output_type": "stream",
     "text": [
      "[ 0.11569577  0.09964741  0.09533758  0.10307961  0.11212254  0.10714687\n",
      "  0.11476682  0.1444719   0.1077315 ]\n"
     ]
    }
   ],
   "source": [
    "from sklearn.ensemble import ExtraTreesClassifier\n",
    "\n",
    "model = ExtraTreesClassifier()\n",
    "model.fit(X, y)\n",
    "print(model.feature_importances_)"
   ]
  },
  {
   "cell_type": "markdown",
   "metadata": {},
   "source": [
    "# Accuracy table"
   ]
  },
  {
   "cell_type": "code",
   "execution_count": 79,
   "metadata": {
    "collapsed": false
   },
   "outputs": [
    {
     "data": {
      "text/html": [
       "<div>\n",
       "<table border=\"1\" class=\"dataframe\">\n",
       "  <thead>\n",
       "    <tr style=\"text-align: right;\">\n",
       "      <th></th>\n",
       "      <th>cross_validation</th>\n",
       "      <th>training_set</th>\n",
       "      <th>percentage_split</th>\n",
       "    </tr>\n",
       "  </thead>\n",
       "  <tbody>\n",
       "    <tr>\n",
       "      <th>logistic_regression</th>\n",
       "      <td>0.405765</td>\n",
       "      <td>0.439446</td>\n",
       "      <td>0.45</td>\n",
       "    </tr>\n",
       "    <tr>\n",
       "      <th>gradient_boosting</th>\n",
       "      <td>0.424775</td>\n",
       "      <td>0.583045</td>\n",
       "      <td>0.50</td>\n",
       "    </tr>\n",
       "    <tr>\n",
       "      <th>multilayer_perceptron</th>\n",
       "      <td>0.346837</td>\n",
       "      <td>0.372837</td>\n",
       "      <td>0.40</td>\n",
       "    </tr>\n",
       "  </tbody>\n",
       "</table>\n",
       "</div>"
      ],
      "text/plain": [
       "                       cross_validation  training_set  percentage_split\n",
       "logistic_regression            0.405765      0.439446              0.45\n",
       "gradient_boosting              0.424775      0.583045              0.50\n",
       "multilayer_perceptron          0.346837      0.372837              0.40"
      ]
     },
     "execution_count": 79,
     "metadata": {},
     "output_type": "execute_result"
    }
   ],
   "source": [
    "t.index = ['logistic_regression', 'gradient_boosting', 'multilayer_perceptron']\n",
    "t.columns = ['cross_validation', 'training_set', 'percentage_split']\n",
    "t"
   ]
  },
  {
   "cell_type": "code",
   "execution_count": null,
   "metadata": {
    "collapsed": true
   },
   "outputs": [],
   "source": []
  }
 ],
 "metadata": {
  "kernelspec": {
   "display_name": "Python 2",
   "language": "python",
   "name": "python2"
  },
  "language_info": {
   "codemirror_mode": {
    "name": "ipython",
    "version": 2
   },
   "file_extension": ".py",
   "mimetype": "text/x-python",
   "name": "python",
   "nbconvert_exporter": "python",
   "pygments_lexer": "ipython2",
   "version": "2.7.12"
  }
 },
 "nbformat": 4,
 "nbformat_minor": 2
}
